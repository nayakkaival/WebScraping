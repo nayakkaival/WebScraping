{
 "cells": [
  {
   "cell_type": "code",
   "execution_count": 27,
   "metadata": {},
   "outputs": [],
   "source": [
    "import pandas as pd\n",
    "from selenium import webdriver\n",
    "from selenium.webdriver.chrome.options import Options "
   ]
  },
  {
   "cell_type": "code",
   "execution_count": 37,
   "metadata": {},
   "outputs": [],
   "source": [
    "url = \"https://www.amazon.com/Hoover-CH30000-PortaPower-Lightweight-Commercial/dp/B005NASSRO/ref=sr_1_3?keywords=hOOVER+PORTAPOWER+VACUUM&qid=1637521907&qsid=143-2943421-2505154&sr=8-3&sres=B005NASSRO%2CB004V6JU6E%2CB09D88TQVW%2CB00Y33MMDS%2CB008MM4CRU%2CB01CFLS7ZG%2CB00Y33JMZO%2CB005NASZG8%2CB008BPFBH8%2CB085WPWTM1%2CB07MFM81RX%2CB01MTFTTQ2%2CB00CO9VLLW%2CB08BJX2TLC%2CB07QF68YTM%2CB00B7871DS&srpt=VACUUM_CLEANER\"\n",
    "\n",
    "options = Options()\n",
    "options.add_argument(\"--headless\") # to ensure the browser does not open again and again\n",
    "driver = webdriver.Chrome(\"/Users/kaival/Downloads/chromedriver\",options = options) #webdriver for chrome\n",
    "driver.get(url)\n"
   ]
  },
  {
   "cell_type": "code",
   "execution_count": 38,
   "metadata": {},
   "outputs": [
    {
     "name": "stdout",
     "output_type": "stream",
     "text": [
      "Hoover Commercial CH30000 Lightweight Canister Vacuum Cleaner with Attachments, 8 Pounds, Black\n",
      "List Price:\n",
      "$149.51 Details\n",
      "Price:\n",
      "$135.00 & FREE Returns\n",
      "You Save:\n",
      "$14.51 (10%)\n"
     ]
    }
   ],
   "source": [
    "product_name = \"productTitle\"\n",
    "product_price = \"corePrice_desktop\"\n",
    "\n",
    "\n",
    "title = driver.find_element_by_id(product_name).text\n",
    "price = driver.find_element_by_id(product_price).text\n",
    "\n",
    "print (title)\n",
    "print (price)"
   ]
  },
  {
   "cell_type": "code",
   "execution_count": null,
   "metadata": {},
   "outputs": [],
   "source": []
  }
 ],
 "metadata": {
  "kernelspec": {
   "display_name": "Python 3",
   "language": "python",
   "name": "python3"
  },
  "language_info": {
   "codemirror_mode": {
    "name": "ipython",
    "version": 3
   },
   "file_extension": ".py",
   "mimetype": "text/x-python",
   "name": "python",
   "nbconvert_exporter": "python",
   "pygments_lexer": "ipython3",
   "version": "3.8.5"
  }
 },
 "nbformat": 4,
 "nbformat_minor": 4
}
